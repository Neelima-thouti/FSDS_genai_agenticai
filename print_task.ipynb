{
 "cells": [
  {
   "cell_type": "code",
   "execution_count": 1,
   "id": "331b9474",
   "metadata": {},
   "outputs": [
    {
     "data": {
      "text/plain": [
       "20"
      ]
     },
     "execution_count": 1,
     "metadata": {},
     "output_type": "execute_result"
    }
   ],
   "source": [
    "a=10 \n",
    "b=20 \n",
    "a \n",
    "b "
   ]
  },
  {
   "cell_type": "code",
   "execution_count": 2,
   "id": "51389dd0",
   "metadata": {},
   "outputs": [
    {
     "name": "stdout",
     "output_type": "stream",
     "text": [
      "10\n",
      "20\n"
     ]
    }
   ],
   "source": [
    "a=10 \n",
    "b=20 \n",
    "print(a) \n",
    "print(b) "
   ]
  },
  {
   "cell_type": "code",
   "execution_count": 3,
   "id": "722f0110",
   "metadata": {},
   "outputs": [
    {
     "name": "stdout",
     "output_type": "stream",
     "text": [
      "10 20\n",
      "python\n",
      "10 20 python\n"
     ]
    }
   ],
   "source": [
    "print(10,20) \n",
    "print('python') \n",
    "print(10,20,'python')"
   ]
  },
  {
   "cell_type": "code",
   "execution_count": 4,
   "id": "87dcd8a4",
   "metadata": {},
   "outputs": [
    {
     "name": "stdout",
     "output_type": "stream",
     "text": [
      "50\n"
     ]
    }
   ],
   "source": [
    "num1=20 \n",
    "num2=30 \n",
    "add=num1+num2 \n",
    "print(add)"
   ]
  },
  {
   "cell_type": "code",
   "execution_count": 5,
   "id": "201d6b84",
   "metadata": {},
   "outputs": [
    {
     "name": "stdout",
     "output_type": "stream",
     "text": [
      "The addition of 20 and 30 is= 50\n"
     ]
    }
   ],
   "source": [
    "num1=20 \n",
    "num2=30 \n",
    "add=num1+num2 \n",
    "print('The addition of',num1,'and',num2,'is=',add)"
   ]
  },
  {
   "cell_type": "code",
   "execution_count": 6,
   "id": "b9dda43b",
   "metadata": {},
   "outputs": [
    {
     "name": "stdout",
     "output_type": "stream",
     "text": [
      "My name is Python and i am 20 years old from Mumbai\n"
     ]
    }
   ],
   "source": [
    "name='Python' \n",
    "age=20 \n",
    "city='Mumbai'\n",
    "print('My name is',name,'and i am',age,'years old from',city)"
   ]
  },
  {
   "cell_type": "code",
   "execution_count": 7,
   "id": "6aaa0ed9",
   "metadata": {},
   "outputs": [
    {
     "name": "stdout",
     "output_type": "stream",
     "text": [
      "The addition of 20 and 30 is= 50\n"
     ]
    }
   ],
   "source": [
    "num1=20 \n",
    "num2=30 \n",
    "add=num1+num2 \n",
    "print('The addition of {} and {} is= {}'.format(num1,num2,add))"
   ]
  },
  {
   "cell_type": "code",
   "execution_count": 9,
   "id": "5aaa864e",
   "metadata": {},
   "outputs": [
    {
     "name": "stdout",
     "output_type": "stream",
     "text": [
      "My name is Python and I am 20 years old from Mumbai\n"
     ]
    }
   ],
   "source": [
    "name='Python' \n",
    "age=20 \n",
    "city='Mumbai'\n",
    "print('My name is {} and I am {} years old from {}'.format(name,age,city))"
   ]
  },
  {
   "cell_type": "code",
   "execution_count": 11,
   "id": "e923e06f",
   "metadata": {},
   "outputs": [
    {
     "name": "stdout",
     "output_type": "stream",
     "text": [
      "The average of 20, 30, and 333 is= 127.66666666666667 or 127.67\n"
     ]
    }
   ],
   "source": [
    "num1=100 \n",
    "num2=25 \n",
    "num3=333 \n",
    "num1=20 \n",
    "num2=30 \n",
    "avg=(num1+num2+num3)/3  \n",
    "avg1=round((num1+num2+num3)/3,2)\n",
    "print('The average of {}, {}, and {} is= {} or {}'.format(num1,num2,num3, \n",
    "avg,avg1))"
   ]
  },
  {
   "cell_type": "code",
   "execution_count": 12,
   "id": "58904c92",
   "metadata": {},
   "outputs": [
    {
     "data": {
      "text/plain": [
       "127.67"
      ]
     },
     "execution_count": 12,
     "metadata": {},
     "output_type": "execute_result"
    }
   ],
   "source": [
    "round(avg,2)"
   ]
  },
  {
   "cell_type": "code",
   "execution_count": 13,
   "id": "ceba7fb6",
   "metadata": {},
   "outputs": [
    {
     "name": "stdout",
     "output_type": "stream",
     "text": [
      "The addition of 20 and 30 is 50\n"
     ]
    }
   ],
   "source": [
    "num1=20 \n",
    "num2=30 \n",
    "add=num1+num2 \n",
    "print(f'The addition of {num1} and {num2} is {add}')"
   ]
  },
  {
   "cell_type": "code",
   "execution_count": 15,
   "id": "9aa724d9",
   "metadata": {},
   "outputs": [
    {
     "name": "stdout",
     "output_type": "stream",
     "text": [
      "hello my name is Python, and i am 20 year old, from Mumbai.\n"
     ]
    }
   ],
   "source": [
    "name='Python' \n",
    "age=20 \n",
    "city='Mumbai' \n",
    "print(f'hello my name is {name}, and i am {age} year old, from {city}.') "
   ]
  },
  {
   "cell_type": "code",
   "execution_count": 16,
   "id": "9bf3dddd",
   "metadata": {},
   "outputs": [
    {
     "name": "stdout",
     "output_type": "stream",
     "text": [
      "The average of 100,25 and 333 is 152.67\n"
     ]
    }
   ],
   "source": [
    "num1=100 \n",
    "num2=25 \n",
    "num3=333 \n",
    "avg=round((num1+num2+num3)/3,2)\n",
    "print(f'The average of {num1},{num2} and {num3} is {avg}')"
   ]
  },
  {
   "cell_type": "code",
   "execution_count": 19,
   "id": "dc4d16d8",
   "metadata": {},
   "outputs": [
    {
     "name": "stdout",
     "output_type": "stream",
     "text": [
      "the addition of 10 and 20 is 30\n",
      "The addition of 10 and 20 is 30\n",
      "The addition of 10 and 20 is 30\n"
     ]
    }
   ],
   "source": [
    "num1=10 \n",
    "num2=20 \n",
    "add = num1+ num2\n",
    "print('the addition of',num1,'and',num2,'is',add)\n",
    "print('The addition of {} and {} is {}'.format(num1,num2,add))\n",
    "print(f'The addition of {num1} and {num2} is {add}')"
   ]
  },
  {
   "cell_type": "code",
   "execution_count": 20,
   "id": "dc2cafb6",
   "metadata": {},
   "outputs": [
    {
     "name": "stdout",
     "output_type": "stream",
     "text": [
      "hello\n",
      "Good morning\n"
     ]
    }
   ],
   "source": [
    "print('hello')  \n",
    "print('Good morning')"
   ]
  },
  {
   "cell_type": "code",
   "execution_count": 21,
   "id": "e07bebe3",
   "metadata": {},
   "outputs": [
    {
     "name": "stdout",
     "output_type": "stream",
     "text": [
      "hello world good day\n"
     ]
    }
   ],
   "source": [
    "print('hello', end=' ') \n",
    "print('world good day')"
   ]
  },
  {
   "cell_type": "code",
   "execution_count": 22,
   "id": "2f2d5a02",
   "metadata": {},
   "outputs": [
    {
     "name": "stdout",
     "output_type": "stream",
     "text": [
      "hello--->Hi--->how are you\n"
     ]
    }
   ],
   "source": [
    "print('hello','Hi','how are you',sep='--->')"
   ]
  },
  {
   "cell_type": "code",
   "execution_count": null,
   "id": "6e045480",
   "metadata": {},
   "outputs": [
    {
     "name": "stdout",
     "output_type": "stream",
     "text": [
      "hello&hai&how are you\n"
     ]
    }
   ],
   "source": [
    "print('hello','Hi','how are you',sep='&')"
   ]
  },
  {
   "cell_type": "code",
   "execution_count": 24,
   "id": "4384a7b6",
   "metadata": {},
   "outputs": [
    {
     "name": "stdout",
     "output_type": "stream",
     "text": [
      "hello@Hi@how are you\n"
     ]
    }
   ],
   "source": [
    "print('hello','Hi','how are you',sep='@')"
   ]
  },
  {
   "cell_type": "code",
   "execution_count": 25,
   "id": "4d4e94fd",
   "metadata": {},
   "outputs": [
    {
     "name": "stdout",
     "output_type": "stream",
     "text": [
      "hello Hi how are you\n"
     ]
    }
   ],
   "source": [
    "print('hello','Hi','how are you',sep=' ')"
   ]
  },
  {
   "cell_type": "code",
   "execution_count": 26,
   "id": "001b80a5",
   "metadata": {},
   "outputs": [
    {
     "name": "stdout",
     "output_type": "stream",
     "text": [
      "3 .\n"
     ]
    }
   ],
   "source": [
    "print(3,'.') "
   ]
  },
  {
   "cell_type": "code",
   "execution_count": 27,
   "id": "0ccf5fb2",
   "metadata": {},
   "outputs": [
    {
     "name": "stdout",
     "output_type": "stream",
     "text": [
      "3.\n"
     ]
    }
   ],
   "source": [
    "print(3,'.',sep='') "
   ]
  },
  {
   "cell_type": "code",
   "execution_count": 28,
   "id": "6402c94f",
   "metadata": {},
   "outputs": [
    {
     "name": "stdout",
     "output_type": "stream",
     "text": [
      "1 2 3.\n"
     ]
    }
   ],
   "source": [
    "print(1,2,end=' ') \n",
    "print(3,'.',sep='') "
   ]
  }
 ],
 "metadata": {
  "kernelspec": {
   "display_name": "base",
   "language": "python",
   "name": "python3"
  },
  "language_info": {
   "codemirror_mode": {
    "name": "ipython",
    "version": 3
   },
   "file_extension": ".py",
   "mimetype": "text/x-python",
   "name": "python",
   "nbconvert_exporter": "python",
   "pygments_lexer": "ipython3",
   "version": "3.12.7"
  }
 },
 "nbformat": 4,
 "nbformat_minor": 5
}
